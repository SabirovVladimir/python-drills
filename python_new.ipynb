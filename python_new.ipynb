{
 "cells": [
  {
   "cell_type": "code",
   "execution_count": null,
   "metadata": {},
   "outputs": [
    {
     "name": "stdout",
     "output_type": "stream",
     "text": [
      "[1, 3, 3, 1]\n"
     ]
    }
   ],
   "source": [
    "# Pascal's Triangle 1\n",
    "n = 3\n",
    "def pascal(n):\n",
    "    row = [1]\n",
    "    for k in range(1, n + 1):\n",
    "        row.append(row[-1] * (n - k + 1) // k)\n",
    "    return row\n",
    "\n",
    "print(pascal(n))"
   ]
  },
  {
   "cell_type": "code",
   "execution_count": 8,
   "metadata": {},
   "outputs": [
    {
     "name": "stdout",
     "output_type": "stream",
     "text": [
      "1\n",
      "1 1\n",
      "1 2 1\n",
      "1 3 3 1\n"
     ]
    }
   ],
   "source": [
    "# Pascal's Triangle 2\n",
    "n = 3\n",
    "import math\n",
    "for k in range(0, n+1):\n",
    "    list = []\n",
    "    for i in range(0, n+1):\n",
    "        if k < i:\n",
    "            break\n",
    "        else: \n",
    "            a = int(math.factorial(k)/(math.factorial(i)*math.factorial(k-i)))\n",
    "            list.append(a)\n",
    "    print(*list)\n",
    "        \n",
    "\n"
   ]
  },
  {
   "cell_type": "code",
   "execution_count": null,
   "metadata": {},
   "outputs": [
    {
     "name": "stdout",
     "output_type": "stream",
     "text": [
      "27\n",
      "[['w', 'w', 'w'], ['o'], ['r'], ['l'], ['d'], ['g', 'g', 'g', 'g'], ['r'], ['e'], ['a'], ['t', 't'], ['e'], ['c', 'c'], ['h'], ['e'], ['m'], ['g', 'g'], ['p'], ['w', 'w']]\n"
     ]
    }
   ],
   "source": [
    "# Packing duplicates\n",
    "str = 'w w w o r l d g g g g r e a t t e c c h e m g g p w w'\n",
    "s = str.split()\n",
    "n = len(s)\n",
    "packed_list = []\n",
    "i = 0\n",
    "while i < n:\n",
    "    sublist = [s[i]]\n",
    "    while i + 1 < n and s[i] == s[i + 1]:\n",
    "        sublist.append(s[i + 1])\n",
    "        i += 1\n",
    "    packed_list.append(sublist)\n",
    "    i += 1\n",
    "print(packed_list)"
   ]
  },
  {
   "cell_type": "code",
   "execution_count": null,
   "metadata": {},
   "outputs": [],
   "source": [
    "str = 'w w w o r l d g g g g r e a t t e c c h e m g g p w w'\n",
    "n = 3\n",
    "s = str.split()\n",
    "list = []\n",
    "temp = []\n",
    "for i in range (0, n):\n",
    "    temp.append(s[i])\n",
    "    if i+1 < n and s[i] != s[i+1]:\n",
    "        list.append(temp)\n",
    "        temp = []\n",
    "    "
   ]
  },
  {
   "cell_type": "code",
   "execution_count": null,
   "metadata": {},
   "outputs": [],
   "source": []
  }
 ],
 "metadata": {
  "kernelspec": {
   "display_name": "Python 3",
   "language": "python",
   "name": "python3"
  },
  "language_info": {
   "codemirror_mode": {
    "name": "ipython",
    "version": 3
   },
   "file_extension": ".py",
   "mimetype": "text/x-python",
   "name": "python",
   "nbconvert_exporter": "python",
   "pygments_lexer": "ipython3",
   "version": "3.13.2"
  }
 },
 "nbformat": 4,
 "nbformat_minor": 2
}
